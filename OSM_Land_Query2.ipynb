{
  "nbformat": 4,
  "nbformat_minor": 0,
  "metadata": {
    "colab": {
      "provenance": [],
      "authorship_tag": "ABX9TyPEvDbikHW5osj29Aie3FTb",
      "include_colab_link": true
    },
    "kernelspec": {
      "name": "python3",
      "display_name": "Python 3"
    },
    "language_info": {
      "name": "python"
    }
  },
  "cells": [
    {
      "cell_type": "markdown",
      "metadata": {
        "id": "view-in-github",
        "colab_type": "text"
      },
      "source": [
        "<a href=\"https://colab.research.google.com/github/DavidSchneider47/National-TOD-Atlas/blob/main/OSM_Land_Query2.ipynb\" target=\"_parent\"><img src=\"https://colab.research.google.com/assets/colab-badge.svg\" alt=\"Open In Colab\"/></a>"
      ]
    },
    {
      "cell_type": "markdown",
      "source": [
        "### **Install the OSM API**"
      ],
      "metadata": {
        "id": "g2hbRc1cF3PI"
      }
    },
    {
      "cell_type": "code",
      "source": [
        "pip install overpy"
      ],
      "metadata": {
        "colab": {
          "base_uri": "https://localhost:8080/"
        },
        "id": "zxNu91jzXxEw",
        "outputId": "1463c6d3-c762-40cf-dafd-9758bd422252"
      },
      "execution_count": 2,
      "outputs": [
        {
          "output_type": "stream",
          "name": "stdout",
          "text": [
            "Collecting overpy\n",
            "  Downloading overpy-0.7-py3-none-any.whl (14 kB)\n",
            "Installing collected packages: overpy\n",
            "Successfully installed overpy-0.7\n"
          ]
        }
      ]
    },
    {
      "cell_type": "markdown",
      "source": [
        "### **Identify Selected Land Uses 1/4 Mile Around Stations and Calculate the Land Cover**"
      ],
      "metadata": {
        "id": "S9xiUaUpGGU_"
      }
    },
    {
      "cell_type": "code",
      "source": [
        "import csv\n",
        "import overpy\n",
        "from shapely.geometry import Polygon\n",
        "from pyproj import Transformer\n",
        "\n",
        "def query_area_for_tags(lat, lon, radius_meters, tags):\n",
        "    api = overpy.Overpass()\n",
        "\n",
        "    # Build the query for the given tags\n",
        "    query = \"[out:json];(\"\n",
        "    for tag in tags:\n",
        "        query += f'way[{tag}](around:{radius_meters},{lat},{lon});'\n",
        "    query += \");out body;>;out skel qt;\"\n",
        "\n",
        "    # Execute the query\n",
        "    result = api.query(query)\n",
        "\n",
        "    # Calculate total area\n",
        "    total_area = 0.0\n",
        "    transformer = Transformer.from_crs(\"EPSG:4326\", \"EPSG:3857\", always_xy=True)\n",
        "    for way in result.ways:\n",
        "        coords = [(node.lon, node.lat) for node in way.nodes]\n",
        "        if len(coords) < 4:\n",
        "            continue  # Skip ways with insufficient nodes to form a polygon\n",
        "        projected_coords = [transformer.transform(lon, lat) for lon, lat in coords]\n",
        "        polygon = Polygon(projected_coords)\n",
        "        total_area += polygon.area\n",
        "\n",
        "    return total_area\n",
        "\n",
        "vector_tags = {\n",
        "    \"Building Footprint\": [\"building\"],\n",
        "    \"Highway\": [\"highway=motorway\", \"highway=motorway_link\"],\n",
        "    \"Trunk Road\": [\"highway=trunk\", \"highway=trunk_link\"],\n",
        "    \"Primary Road\": [\"highway=primary\", \"highway=primary_link\"],\n",
        "    \"Secondary Road\": [\"highway=secondary\", \"highway=secondary_link\"],\n",
        "    \"Tertiary Road\": [\"highway=tertiary\", \"highway=tertiary_link\"],\n",
        "    \"Residential Road\": [\"highway=residential\"],\n",
        "    \"Railway\": [\"railway=rail\"],\n",
        "    \"Subway Railway\": [\"railway=subway\",\"bridge=yes\", \"embankment=yes\"],\n",
        "    \"Parking Lot\": [\"amenity=parking\"],\n",
        "    \"Residential Area\": [\"landuse=residential\"],\n",
        "    \"Commercial Area\": [\"landuse=commercial\"],\n",
        "    \"Retail Area\": [\"landuse=retail\"],\n",
        "    \"Industrial Area\": [\"landuse=industrial\"],\n",
        "    \"Railway Area\": [\"landuse=railway\"],\n",
        "    \"Cemetery\": [\"landuse=cemetery\"],\n",
        "    \"Woodland\": [\"natural=wood\", \"landuse=forest\"],\n",
        "    \"Park\": [\"leisure=park\"],\n",
        "    \"Recreation\": [\"landuse=recreation_ground\",\"leisure=playground\", \"leisure=pitch\",\"leisure=track\"],\n",
        "    \"Education\": [\"amenity=kindergarten\", \"amenity=school\",\"amenity=college\",\"amenity=university\"],\n",
        "    \"Health Care\": [\"amenity=hospital\",\"amenity=clinic\"],\n",
        "    \"Water\": [\"natural=water\"],\n",
        "    \"Beach\": [\"natural=beach\"],\n",
        "}\n",
        "\n",
        "# Load coordinates and Facility ID from the provided CSV\n",
        "coordinates = []\n",
        "facility_ids = []\n",
        "with open('/content/A-Train.csv', 'r') as csvfile:\n",
        "    csvreader = csv.DictReader(csvfile)\n",
        "    for row in csvreader:\n",
        "        # Extract the 'coordinates' column and split it into lat, lon\n",
        "        coords_string = row['coordinates']  # Adjust the key if the column name is different\n",
        "        coords_string = coords_string.strip('()')  # Remove the parentheses\n",
        "        lat_str, lon_str = coords_string.split(',')\n",
        "        lat = float(lat_str.strip())\n",
        "        lon = float(lon_str.strip())\n",
        "        coordinates.append((lat, lon))\n",
        "        # Also store the Facility ID\n",
        "        facility_ids.append(row['Facility ID'])  # Adjust if the column name is different\n",
        "\n",
        "radius = 402.34  # 1/4 mile in meters\n",
        "\n",
        "# Check if the output CSV exists to decide on writing headers\n",
        "file_exists = False\n",
        "try:\n",
        "    with open('osm_results_transposed.csv', 'r') as f:\n",
        "        file_exists = True\n",
        "except FileNotFoundError:\n",
        "    pass\n",
        "\n",
        "with open('osm_results_transposed.csv', 'a', newline='') as csvfile:\n",
        "    csvwriter = csv.writer(csvfile)\n",
        "\n",
        "    # Write the header row only if the file didn't exist\n",
        "    if not file_exists:\n",
        "        headers = [\"Facility ID\", \"Latitude\", \"Longitude\"] + list(vector_tags.keys())\n",
        "        csvwriter.writerow(headers)\n",
        "\n",
        "    # Loop through each coordinate pair and fetch results\n",
        "    for facility_id, (lat, lon) in zip(facility_ids, coordinates):\n",
        "        results_dict = {\"Facility ID\": facility_id, \"Latitude\": lat, \"Longitude\": lon}\n",
        "        for vector, tags in vector_tags.items():\n",
        "            area = query_area_for_tags(lat, lon, radius, tags)\n",
        "            results_dict[vector] = f\"{area:.2f}\"\n",
        "\n",
        "        # Write the results row for the current coordinate pair\n",
        "        row_data = [results_dict[header] for header in headers]\n",
        "        csvwriter.writerow(row_data)\n",
        "\n",
        "print(\"Results appended to osm_results_transposed.csv\")\n"
      ],
      "metadata": {
        "colab": {
          "base_uri": "https://localhost:8080/"
        },
        "id": "2hf0VCq2_mEO",
        "outputId": "342ea602-1bfe-4684-b38b-42d132ddb00a"
      },
      "execution_count": null,
      "outputs": [
        {
          "output_type": "stream",
          "name": "stdout",
          "text": [
            "Results appended to osm_results_transposed.csv\n"
          ]
        }
      ]
    },
    {
      "cell_type": "markdown",
      "source": [
        "### **New OSM Query with Number of Buoldings**"
      ],
      "metadata": {
        "id": "_Ml7Wlma8W-Q"
      }
    },
    {
      "cell_type": "code",
      "source": [
        "import csv\n",
        "import overpy\n",
        "import requests\n",
        "from shapely.geometry import Polygon\n",
        "from pyproj import Transformer\n",
        "\n",
        "def query_area_for_tags(lat, lon, radius_meters, tags):\n",
        "    api = overpy.Overpass()\n",
        "\n",
        "    # Build the query for the given tags\n",
        "    query = \"[out:json];(\"\n",
        "    for tag in tags:\n",
        "        query += f'way[{tag}](around:{radius_meters},{lat},{lon});'\n",
        "    query += \");out body;>;out skel qt;\"\n",
        "\n",
        "    # Execute the query\n",
        "    result = api.query(query)\n",
        "\n",
        "    # Calculate total area\n",
        "    total_area = 0.0\n",
        "    transformer = Transformer.from_crs(\"EPSG:4326\", \"EPSG:3857\", always_xy=True)\n",
        "    for way in result.ways:\n",
        "        coords = [(node.lon, node.lat) for node in way.nodes]\n",
        "        if len(coords) < 4:\n",
        "            continue  # Skip ways with insufficient nodes to form a polygon\n",
        "        projected_coords = [transformer.transform(lon, lat) for lon, lat in coords]\n",
        "        polygon = Polygon(projected_coords)\n",
        "        total_area += polygon.area\n",
        "\n",
        "    return total_area\n",
        "\n",
        "def query_building_count(lat, lon, radius_meters):\n",
        "    # Define the Overpass API endpoint\n",
        "    overpass_url = \"http://overpass-api.de/api/interpreter\"\n",
        "\n",
        "    # Define the Overpass QL query for building count\n",
        "    overpass_query = f\"\"\"\n",
        "    [out:json];\n",
        "    (\n",
        "      node[\"building\"](around:{radius_meters},{lat},{lon});\n",
        "      way[\"building\"](around:{radius_meters},{lat},{lon});\n",
        "      relation[\"building\"](around:{radius_meters},{lat},{lon});\n",
        "    );\n",
        "    out count;\n",
        "    \"\"\"\n",
        "\n",
        "    # Send the request to the Overpass API\n",
        "    response = requests.get(overpass_url, params={'data': overpass_query})\n",
        "\n",
        "    # Parse the response\n",
        "    if response.status_code == 200:\n",
        "        data = response.json()\n",
        "        return data['elements'][0]['tags']['total']  # Extract the total count\n",
        "    else:\n",
        "        return \"Error\"\n",
        "\n",
        "vector_tags = {\n",
        "    \"Building Footprint\": [\"building\"],\n",
        "    \"Highway\": [\"highway=motorway\", \"highway=motorway_link\"],\n",
        "    \"Trunk Road\": [\"highway=trunk\", \"highway=trunk_link\"],\n",
        "    \"Primary Road\": [\"highway=primary\", \"highway=primary_link\"],\n",
        "    \"Secondary Road\": [\"highway=secondary\", \"highway=secondary_link\"],\n",
        "    \"Tertiary Road\": [\"highway=tertiary\", \"highway=tertiary_link\"],\n",
        "    \"Residential Road\": [\"highway=residential\"],\n",
        "    \"Railway\": [\"railway=rail\"],\n",
        "    \"Parking Lot\": [\"amenity=parking\"],\n",
        "    \"Residential Area\": [\"landuse=residential\"],\n",
        "    \"Commercial Area\": [\"landuse=commercial\"],\n",
        "    \"Retail Area\": [\"landuse=retail\"],\n",
        "    \"Industrial Area\": [\"landuse=industrial\"],\n",
        "    \"Railway Area\": [\"landuse=railway\"],\n",
        "    \"Cemetery\": [\"landuse=cemetery\"],\n",
        "    \"Woodland\": [\"natural=wood\", \"landuse=forest\"],\n",
        "    \"Park\": [\"leisure=park\"],\n",
        "    \"Recreation\": [\"landuse=recreation_ground\",\"leisure=playground\", \"leisure=pitch\",\"leisure=track\"],\n",
        "    \"Education\": [\"amenity=kindergarten\", \"amenity=school\",\"amenity=college\",\"amenity=university\"],\n",
        "    \"Health Care\": [\"amenity=hospital\",\"amenity=clinic\"],\n",
        "    \"Water\": [\"natural=water\"],\n",
        "    \"Beach\": [\"natural=beach\"],\n",
        "}\n",
        "\n",
        "# Load coordinates and Facility ID from the provided CSV\n",
        "coordinates = []\n",
        "facility_ids = []\n",
        "with open('/content/stations_clean_final3.csv', 'r') as csvfile:\n",
        "    csvreader = csv.DictReader(csvfile)\n",
        "    for row in csvreader:\n",
        "        # Extract the 'coordinates' column and split it into lat, lon\n",
        "        coords_string = row['coordinates']  # Adjust the key if the column name is different\n",
        "        coords_string = coords_string.strip('()')  # Remove the parentheses\n",
        "        lat_str, lon_str = coords_string.split(',')\n",
        "        lat = float(lat_str.strip())\n",
        "        lon = float(lon_str.strip())\n",
        "        coordinates.append((lat, lon))\n",
        "        # Also store the Facility ID\n",
        "        facility_ids.append(row['Facility ID'])  # Adjust if the column name is different\n",
        "\n",
        "radius = 402.34  # 1/4 mile in meters\n",
        "\n",
        "# Check if the output CSV exists to decide on writing headers\n",
        "file_exists = False\n",
        "try:\n",
        "    with open('osm_results_transposed.csv', 'r') as f:\n",
        "        file_exists = True\n",
        "except FileNotFoundError:\n",
        "    pass\n",
        "\n",
        "with open('osm_results_transposed.csv', 'a', newline='') as csvfile:\n",
        "    csvwriter = csv.writer(csvfile)\n",
        "\n",
        "    # Write the header row only if the file didn't exist\n",
        "    if not file_exists:\n",
        "        headers = [\"Facility ID\", \"Latitude\", \"Longitude\", \"Building Count\"] + list(vector_tags.keys())\n",
        "        csvwriter.writerow(headers)\n",
        "\n",
        "    # Loop through each coordinate pair and fetch results\n",
        "    for facility_id, (lat, lon) in zip(facility_ids, coordinates):\n",
        "        results_dict = {\"Facility ID\": facility_id, \"Latitude\": lat, \"Longitude\": lon}\n",
        "        building_count = query_building_count(lat, lon, radius)\n",
        "        results_dict[\"Building Count\"] = building_count\n",
        "        for vector, tags in vector_tags.items():\n",
        "            area = query_area_for_tags(lat, lon, radius, tags)\n",
        "            results_dict[vector] = f\"{area:.2f}\"\n",
        "\n",
        "        # Write the results row for the current coordinate pair\n",
        "        row_data = [results_dict[header] for header in headers]\n",
        "        csvwriter.writerow(row_data)\n",
        "\n",
        "print(\"Results appended to osm_results_transposed.csv\")\n"
      ],
      "metadata": {
        "colab": {
          "base_uri": "https://localhost:8080/",
          "height": 391
        },
        "id": "bhttg4NfIGUC",
        "outputId": "162de53c-820e-468e-81fc-7b3d31bd56f8"
      },
      "execution_count": 4,
      "outputs": [
        {
          "output_type": "error",
          "ename": "KeyboardInterrupt",
          "evalue": "",
          "traceback": [
            "\u001b[0;31m---------------------------------------------------------------------------\u001b[0m",
            "\u001b[0;31mKeyboardInterrupt\u001b[0m                         Traceback (most recent call last)",
            "\u001b[0;32m<ipython-input-4-2426b450fad5>\u001b[0m in \u001b[0;36m<cell line: 108>\u001b[0;34m()\u001b[0m\n\u001b[1;32m    120\u001b[0m         \u001b[0mresults_dict\u001b[0m\u001b[0;34m[\u001b[0m\u001b[0;34m\"Building Count\"\u001b[0m\u001b[0;34m]\u001b[0m \u001b[0;34m=\u001b[0m \u001b[0mbuilding_count\u001b[0m\u001b[0;34m\u001b[0m\u001b[0;34m\u001b[0m\u001b[0m\n\u001b[1;32m    121\u001b[0m         \u001b[0;32mfor\u001b[0m \u001b[0mvector\u001b[0m\u001b[0;34m,\u001b[0m \u001b[0mtags\u001b[0m \u001b[0;32min\u001b[0m \u001b[0mvector_tags\u001b[0m\u001b[0;34m.\u001b[0m\u001b[0mitems\u001b[0m\u001b[0;34m(\u001b[0m\u001b[0;34m)\u001b[0m\u001b[0;34m:\u001b[0m\u001b[0;34m\u001b[0m\u001b[0;34m\u001b[0m\u001b[0m\n\u001b[0;32m--> 122\u001b[0;31m             \u001b[0marea\u001b[0m \u001b[0;34m=\u001b[0m \u001b[0mquery_area_for_tags\u001b[0m\u001b[0;34m(\u001b[0m\u001b[0mlat\u001b[0m\u001b[0;34m,\u001b[0m \u001b[0mlon\u001b[0m\u001b[0;34m,\u001b[0m \u001b[0mradius\u001b[0m\u001b[0;34m,\u001b[0m \u001b[0mtags\u001b[0m\u001b[0;34m)\u001b[0m\u001b[0;34m\u001b[0m\u001b[0;34m\u001b[0m\u001b[0m\n\u001b[0m\u001b[1;32m    123\u001b[0m             \u001b[0mresults_dict\u001b[0m\u001b[0;34m[\u001b[0m\u001b[0mvector\u001b[0m\u001b[0;34m]\u001b[0m \u001b[0;34m=\u001b[0m \u001b[0;34mf\"{area:.2f}\"\u001b[0m\u001b[0;34m\u001b[0m\u001b[0;34m\u001b[0m\u001b[0m\n\u001b[1;32m    124\u001b[0m \u001b[0;34m\u001b[0m\u001b[0m\n",
            "\u001b[0;32m<ipython-input-4-2426b450fad5>\u001b[0m in \u001b[0;36mquery_area_for_tags\u001b[0;34m(lat, lon, radius_meters, tags)\u001b[0m\n\u001b[1;32m     15\u001b[0m \u001b[0;34m\u001b[0m\u001b[0m\n\u001b[1;32m     16\u001b[0m     \u001b[0;31m# Execute the query\u001b[0m\u001b[0;34m\u001b[0m\u001b[0;34m\u001b[0m\u001b[0m\n\u001b[0;32m---> 17\u001b[0;31m     \u001b[0mresult\u001b[0m \u001b[0;34m=\u001b[0m \u001b[0mapi\u001b[0m\u001b[0;34m.\u001b[0m\u001b[0mquery\u001b[0m\u001b[0;34m(\u001b[0m\u001b[0mquery\u001b[0m\u001b[0;34m)\u001b[0m\u001b[0;34m\u001b[0m\u001b[0;34m\u001b[0m\u001b[0m\n\u001b[0m\u001b[1;32m     18\u001b[0m \u001b[0;34m\u001b[0m\u001b[0m\n\u001b[1;32m     19\u001b[0m     \u001b[0;31m# Calculate total area\u001b[0m\u001b[0;34m\u001b[0m\u001b[0;34m\u001b[0m\u001b[0m\n",
            "\u001b[0;32m/usr/local/lib/python3.10/dist-packages/overpy/__init__.py\u001b[0m in \u001b[0;36mquery\u001b[0;34m(self, query)\u001b[0m\n\u001b[1;32m    130\u001b[0m             \u001b[0mretry_num\u001b[0m \u001b[0;34m+=\u001b[0m \u001b[0;36m1\u001b[0m\u001b[0;34m\u001b[0m\u001b[0;34m\u001b[0m\u001b[0m\n\u001b[1;32m    131\u001b[0m             \u001b[0;32mtry\u001b[0m\u001b[0;34m:\u001b[0m\u001b[0;34m\u001b[0m\u001b[0;34m\u001b[0m\u001b[0m\n\u001b[0;32m--> 132\u001b[0;31m                 \u001b[0mf\u001b[0m \u001b[0;34m=\u001b[0m \u001b[0murlopen\u001b[0m\u001b[0;34m(\u001b[0m\u001b[0mself\u001b[0m\u001b[0;34m.\u001b[0m\u001b[0murl\u001b[0m\u001b[0;34m,\u001b[0m \u001b[0mquery\u001b[0m\u001b[0;34m)\u001b[0m\u001b[0;34m\u001b[0m\u001b[0;34m\u001b[0m\u001b[0m\n\u001b[0m\u001b[1;32m    133\u001b[0m             \u001b[0;32mexcept\u001b[0m \u001b[0mHTTPError\u001b[0m \u001b[0;32mas\u001b[0m \u001b[0me\u001b[0m\u001b[0;34m:\u001b[0m\u001b[0;34m\u001b[0m\u001b[0;34m\u001b[0m\u001b[0m\n\u001b[1;32m    134\u001b[0m                 \u001b[0mf\u001b[0m \u001b[0;34m=\u001b[0m \u001b[0me\u001b[0m\u001b[0;34m\u001b[0m\u001b[0;34m\u001b[0m\u001b[0m\n",
            "\u001b[0;32m/usr/lib/python3.10/urllib/request.py\u001b[0m in \u001b[0;36murlopen\u001b[0;34m(url, data, timeout, cafile, capath, cadefault, context)\u001b[0m\n\u001b[1;32m    214\u001b[0m     \u001b[0;32melse\u001b[0m\u001b[0;34m:\u001b[0m\u001b[0;34m\u001b[0m\u001b[0;34m\u001b[0m\u001b[0m\n\u001b[1;32m    215\u001b[0m         \u001b[0mopener\u001b[0m \u001b[0;34m=\u001b[0m \u001b[0m_opener\u001b[0m\u001b[0;34m\u001b[0m\u001b[0;34m\u001b[0m\u001b[0m\n\u001b[0;32m--> 216\u001b[0;31m     \u001b[0;32mreturn\u001b[0m \u001b[0mopener\u001b[0m\u001b[0;34m.\u001b[0m\u001b[0mopen\u001b[0m\u001b[0;34m(\u001b[0m\u001b[0murl\u001b[0m\u001b[0;34m,\u001b[0m \u001b[0mdata\u001b[0m\u001b[0;34m,\u001b[0m \u001b[0mtimeout\u001b[0m\u001b[0;34m)\u001b[0m\u001b[0;34m\u001b[0m\u001b[0;34m\u001b[0m\u001b[0m\n\u001b[0m\u001b[1;32m    217\u001b[0m \u001b[0;34m\u001b[0m\u001b[0m\n\u001b[1;32m    218\u001b[0m \u001b[0;32mdef\u001b[0m \u001b[0minstall_opener\u001b[0m\u001b[0;34m(\u001b[0m\u001b[0mopener\u001b[0m\u001b[0;34m)\u001b[0m\u001b[0;34m:\u001b[0m\u001b[0;34m\u001b[0m\u001b[0;34m\u001b[0m\u001b[0m\n",
            "\u001b[0;32m/usr/lib/python3.10/urllib/request.py\u001b[0m in \u001b[0;36mopen\u001b[0;34m(self, fullurl, data, timeout)\u001b[0m\n\u001b[1;32m    517\u001b[0m \u001b[0;34m\u001b[0m\u001b[0m\n\u001b[1;32m    518\u001b[0m         \u001b[0msys\u001b[0m\u001b[0;34m.\u001b[0m\u001b[0maudit\u001b[0m\u001b[0;34m(\u001b[0m\u001b[0;34m'urllib.Request'\u001b[0m\u001b[0;34m,\u001b[0m \u001b[0mreq\u001b[0m\u001b[0;34m.\u001b[0m\u001b[0mfull_url\u001b[0m\u001b[0;34m,\u001b[0m \u001b[0mreq\u001b[0m\u001b[0;34m.\u001b[0m\u001b[0mdata\u001b[0m\u001b[0;34m,\u001b[0m \u001b[0mreq\u001b[0m\u001b[0;34m.\u001b[0m\u001b[0mheaders\u001b[0m\u001b[0;34m,\u001b[0m \u001b[0mreq\u001b[0m\u001b[0;34m.\u001b[0m\u001b[0mget_method\u001b[0m\u001b[0;34m(\u001b[0m\u001b[0;34m)\u001b[0m\u001b[0;34m)\u001b[0m\u001b[0;34m\u001b[0m\u001b[0;34m\u001b[0m\u001b[0m\n\u001b[0;32m--> 519\u001b[0;31m         \u001b[0mresponse\u001b[0m \u001b[0;34m=\u001b[0m \u001b[0mself\u001b[0m\u001b[0;34m.\u001b[0m\u001b[0m_open\u001b[0m\u001b[0;34m(\u001b[0m\u001b[0mreq\u001b[0m\u001b[0;34m,\u001b[0m \u001b[0mdata\u001b[0m\u001b[0;34m)\u001b[0m\u001b[0;34m\u001b[0m\u001b[0;34m\u001b[0m\u001b[0m\n\u001b[0m\u001b[1;32m    520\u001b[0m \u001b[0;34m\u001b[0m\u001b[0m\n\u001b[1;32m    521\u001b[0m         \u001b[0;31m# post-process response\u001b[0m\u001b[0;34m\u001b[0m\u001b[0;34m\u001b[0m\u001b[0m\n",
            "\u001b[0;32m/usr/lib/python3.10/urllib/request.py\u001b[0m in \u001b[0;36m_open\u001b[0;34m(self, req, data)\u001b[0m\n\u001b[1;32m    534\u001b[0m \u001b[0;34m\u001b[0m\u001b[0m\n\u001b[1;32m    535\u001b[0m         \u001b[0mprotocol\u001b[0m \u001b[0;34m=\u001b[0m \u001b[0mreq\u001b[0m\u001b[0;34m.\u001b[0m\u001b[0mtype\u001b[0m\u001b[0;34m\u001b[0m\u001b[0;34m\u001b[0m\u001b[0m\n\u001b[0;32m--> 536\u001b[0;31m         result = self._call_chain(self.handle_open, protocol, protocol +\n\u001b[0m\u001b[1;32m    537\u001b[0m                                   '_open', req)\n\u001b[1;32m    538\u001b[0m         \u001b[0;32mif\u001b[0m \u001b[0mresult\u001b[0m\u001b[0;34m:\u001b[0m\u001b[0;34m\u001b[0m\u001b[0;34m\u001b[0m\u001b[0m\n",
            "\u001b[0;32m/usr/lib/python3.10/urllib/request.py\u001b[0m in \u001b[0;36m_call_chain\u001b[0;34m(self, chain, kind, meth_name, *args)\u001b[0m\n\u001b[1;32m    494\u001b[0m         \u001b[0;32mfor\u001b[0m \u001b[0mhandler\u001b[0m \u001b[0;32min\u001b[0m \u001b[0mhandlers\u001b[0m\u001b[0;34m:\u001b[0m\u001b[0;34m\u001b[0m\u001b[0;34m\u001b[0m\u001b[0m\n\u001b[1;32m    495\u001b[0m             \u001b[0mfunc\u001b[0m \u001b[0;34m=\u001b[0m \u001b[0mgetattr\u001b[0m\u001b[0;34m(\u001b[0m\u001b[0mhandler\u001b[0m\u001b[0;34m,\u001b[0m \u001b[0mmeth_name\u001b[0m\u001b[0;34m)\u001b[0m\u001b[0;34m\u001b[0m\u001b[0;34m\u001b[0m\u001b[0m\n\u001b[0;32m--> 496\u001b[0;31m             \u001b[0mresult\u001b[0m \u001b[0;34m=\u001b[0m \u001b[0mfunc\u001b[0m\u001b[0;34m(\u001b[0m\u001b[0;34m*\u001b[0m\u001b[0margs\u001b[0m\u001b[0;34m)\u001b[0m\u001b[0;34m\u001b[0m\u001b[0;34m\u001b[0m\u001b[0m\n\u001b[0m\u001b[1;32m    497\u001b[0m             \u001b[0;32mif\u001b[0m \u001b[0mresult\u001b[0m \u001b[0;32mis\u001b[0m \u001b[0;32mnot\u001b[0m \u001b[0;32mNone\u001b[0m\u001b[0;34m:\u001b[0m\u001b[0;34m\u001b[0m\u001b[0;34m\u001b[0m\u001b[0m\n\u001b[1;32m    498\u001b[0m                 \u001b[0;32mreturn\u001b[0m \u001b[0mresult\u001b[0m\u001b[0;34m\u001b[0m\u001b[0;34m\u001b[0m\u001b[0m\n",
            "\u001b[0;32m/usr/lib/python3.10/urllib/request.py\u001b[0m in \u001b[0;36mhttp_open\u001b[0;34m(self, req)\u001b[0m\n\u001b[1;32m   1375\u001b[0m \u001b[0;34m\u001b[0m\u001b[0m\n\u001b[1;32m   1376\u001b[0m     \u001b[0;32mdef\u001b[0m \u001b[0mhttp_open\u001b[0m\u001b[0;34m(\u001b[0m\u001b[0mself\u001b[0m\u001b[0;34m,\u001b[0m \u001b[0mreq\u001b[0m\u001b[0;34m)\u001b[0m\u001b[0;34m:\u001b[0m\u001b[0;34m\u001b[0m\u001b[0;34m\u001b[0m\u001b[0m\n\u001b[0;32m-> 1377\u001b[0;31m         \u001b[0;32mreturn\u001b[0m \u001b[0mself\u001b[0m\u001b[0;34m.\u001b[0m\u001b[0mdo_open\u001b[0m\u001b[0;34m(\u001b[0m\u001b[0mhttp\u001b[0m\u001b[0;34m.\u001b[0m\u001b[0mclient\u001b[0m\u001b[0;34m.\u001b[0m\u001b[0mHTTPConnection\u001b[0m\u001b[0;34m,\u001b[0m \u001b[0mreq\u001b[0m\u001b[0;34m)\u001b[0m\u001b[0;34m\u001b[0m\u001b[0;34m\u001b[0m\u001b[0m\n\u001b[0m\u001b[1;32m   1378\u001b[0m \u001b[0;34m\u001b[0m\u001b[0m\n\u001b[1;32m   1379\u001b[0m     \u001b[0mhttp_request\u001b[0m \u001b[0;34m=\u001b[0m \u001b[0mAbstractHTTPHandler\u001b[0m\u001b[0;34m.\u001b[0m\u001b[0mdo_request_\u001b[0m\u001b[0;34m\u001b[0m\u001b[0;34m\u001b[0m\u001b[0m\n",
            "\u001b[0;32m/usr/lib/python3.10/urllib/request.py\u001b[0m in \u001b[0;36mdo_open\u001b[0;34m(self, http_class, req, **http_conn_args)\u001b[0m\n\u001b[1;32m   1350\u001b[0m             \u001b[0;32mexcept\u001b[0m \u001b[0mOSError\u001b[0m \u001b[0;32mas\u001b[0m \u001b[0merr\u001b[0m\u001b[0;34m:\u001b[0m \u001b[0;31m# timeout error\u001b[0m\u001b[0;34m\u001b[0m\u001b[0;34m\u001b[0m\u001b[0m\n\u001b[1;32m   1351\u001b[0m                 \u001b[0;32mraise\u001b[0m \u001b[0mURLError\u001b[0m\u001b[0;34m(\u001b[0m\u001b[0merr\u001b[0m\u001b[0;34m)\u001b[0m\u001b[0;34m\u001b[0m\u001b[0;34m\u001b[0m\u001b[0m\n\u001b[0;32m-> 1352\u001b[0;31m             \u001b[0mr\u001b[0m \u001b[0;34m=\u001b[0m \u001b[0mh\u001b[0m\u001b[0;34m.\u001b[0m\u001b[0mgetresponse\u001b[0m\u001b[0;34m(\u001b[0m\u001b[0;34m)\u001b[0m\u001b[0;34m\u001b[0m\u001b[0;34m\u001b[0m\u001b[0m\n\u001b[0m\u001b[1;32m   1353\u001b[0m         \u001b[0;32mexcept\u001b[0m\u001b[0;34m:\u001b[0m\u001b[0;34m\u001b[0m\u001b[0;34m\u001b[0m\u001b[0m\n\u001b[1;32m   1354\u001b[0m             \u001b[0mh\u001b[0m\u001b[0;34m.\u001b[0m\u001b[0mclose\u001b[0m\u001b[0;34m(\u001b[0m\u001b[0;34m)\u001b[0m\u001b[0;34m\u001b[0m\u001b[0;34m\u001b[0m\u001b[0m\n",
            "\u001b[0;32m/usr/lib/python3.10/http/client.py\u001b[0m in \u001b[0;36mgetresponse\u001b[0;34m(self)\u001b[0m\n\u001b[1;32m   1373\u001b[0m         \u001b[0;32mtry\u001b[0m\u001b[0;34m:\u001b[0m\u001b[0;34m\u001b[0m\u001b[0;34m\u001b[0m\u001b[0m\n\u001b[1;32m   1374\u001b[0m             \u001b[0;32mtry\u001b[0m\u001b[0;34m:\u001b[0m\u001b[0;34m\u001b[0m\u001b[0;34m\u001b[0m\u001b[0m\n\u001b[0;32m-> 1375\u001b[0;31m                 \u001b[0mresponse\u001b[0m\u001b[0;34m.\u001b[0m\u001b[0mbegin\u001b[0m\u001b[0;34m(\u001b[0m\u001b[0;34m)\u001b[0m\u001b[0;34m\u001b[0m\u001b[0;34m\u001b[0m\u001b[0m\n\u001b[0m\u001b[1;32m   1376\u001b[0m             \u001b[0;32mexcept\u001b[0m \u001b[0mConnectionError\u001b[0m\u001b[0;34m:\u001b[0m\u001b[0;34m\u001b[0m\u001b[0;34m\u001b[0m\u001b[0m\n\u001b[1;32m   1377\u001b[0m                 \u001b[0mself\u001b[0m\u001b[0;34m.\u001b[0m\u001b[0mclose\u001b[0m\u001b[0;34m(\u001b[0m\u001b[0;34m)\u001b[0m\u001b[0;34m\u001b[0m\u001b[0;34m\u001b[0m\u001b[0m\n",
            "\u001b[0;32m/usr/lib/python3.10/http/client.py\u001b[0m in \u001b[0;36mbegin\u001b[0;34m(self)\u001b[0m\n\u001b[1;32m    316\u001b[0m         \u001b[0;31m# read until we get a non-100 response\u001b[0m\u001b[0;34m\u001b[0m\u001b[0;34m\u001b[0m\u001b[0m\n\u001b[1;32m    317\u001b[0m         \u001b[0;32mwhile\u001b[0m \u001b[0;32mTrue\u001b[0m\u001b[0;34m:\u001b[0m\u001b[0;34m\u001b[0m\u001b[0;34m\u001b[0m\u001b[0m\n\u001b[0;32m--> 318\u001b[0;31m             \u001b[0mversion\u001b[0m\u001b[0;34m,\u001b[0m \u001b[0mstatus\u001b[0m\u001b[0;34m,\u001b[0m \u001b[0mreason\u001b[0m \u001b[0;34m=\u001b[0m \u001b[0mself\u001b[0m\u001b[0;34m.\u001b[0m\u001b[0m_read_status\u001b[0m\u001b[0;34m(\u001b[0m\u001b[0;34m)\u001b[0m\u001b[0;34m\u001b[0m\u001b[0;34m\u001b[0m\u001b[0m\n\u001b[0m\u001b[1;32m    319\u001b[0m             \u001b[0;32mif\u001b[0m \u001b[0mstatus\u001b[0m \u001b[0;34m!=\u001b[0m \u001b[0mCONTINUE\u001b[0m\u001b[0;34m:\u001b[0m\u001b[0;34m\u001b[0m\u001b[0;34m\u001b[0m\u001b[0m\n\u001b[1;32m    320\u001b[0m                 \u001b[0;32mbreak\u001b[0m\u001b[0;34m\u001b[0m\u001b[0;34m\u001b[0m\u001b[0m\n",
            "\u001b[0;32m/usr/lib/python3.10/http/client.py\u001b[0m in \u001b[0;36m_read_status\u001b[0;34m(self)\u001b[0m\n\u001b[1;32m    277\u001b[0m \u001b[0;34m\u001b[0m\u001b[0m\n\u001b[1;32m    278\u001b[0m     \u001b[0;32mdef\u001b[0m \u001b[0m_read_status\u001b[0m\u001b[0;34m(\u001b[0m\u001b[0mself\u001b[0m\u001b[0;34m)\u001b[0m\u001b[0;34m:\u001b[0m\u001b[0;34m\u001b[0m\u001b[0;34m\u001b[0m\u001b[0m\n\u001b[0;32m--> 279\u001b[0;31m         \u001b[0mline\u001b[0m \u001b[0;34m=\u001b[0m \u001b[0mstr\u001b[0m\u001b[0;34m(\u001b[0m\u001b[0mself\u001b[0m\u001b[0;34m.\u001b[0m\u001b[0mfp\u001b[0m\u001b[0;34m.\u001b[0m\u001b[0mreadline\u001b[0m\u001b[0;34m(\u001b[0m\u001b[0m_MAXLINE\u001b[0m \u001b[0;34m+\u001b[0m \u001b[0;36m1\u001b[0m\u001b[0;34m)\u001b[0m\u001b[0;34m,\u001b[0m \u001b[0;34m\"iso-8859-1\"\u001b[0m\u001b[0;34m)\u001b[0m\u001b[0;34m\u001b[0m\u001b[0;34m\u001b[0m\u001b[0m\n\u001b[0m\u001b[1;32m    280\u001b[0m         \u001b[0;32mif\u001b[0m \u001b[0mlen\u001b[0m\u001b[0;34m(\u001b[0m\u001b[0mline\u001b[0m\u001b[0;34m)\u001b[0m \u001b[0;34m>\u001b[0m \u001b[0m_MAXLINE\u001b[0m\u001b[0;34m:\u001b[0m\u001b[0;34m\u001b[0m\u001b[0;34m\u001b[0m\u001b[0m\n\u001b[1;32m    281\u001b[0m             \u001b[0;32mraise\u001b[0m \u001b[0mLineTooLong\u001b[0m\u001b[0;34m(\u001b[0m\u001b[0;34m\"status line\"\u001b[0m\u001b[0;34m)\u001b[0m\u001b[0;34m\u001b[0m\u001b[0;34m\u001b[0m\u001b[0m\n",
            "\u001b[0;32m/usr/lib/python3.10/socket.py\u001b[0m in \u001b[0;36mreadinto\u001b[0;34m(self, b)\u001b[0m\n\u001b[1;32m    703\u001b[0m         \u001b[0;32mwhile\u001b[0m \u001b[0;32mTrue\u001b[0m\u001b[0;34m:\u001b[0m\u001b[0;34m\u001b[0m\u001b[0;34m\u001b[0m\u001b[0m\n\u001b[1;32m    704\u001b[0m             \u001b[0;32mtry\u001b[0m\u001b[0;34m:\u001b[0m\u001b[0;34m\u001b[0m\u001b[0;34m\u001b[0m\u001b[0m\n\u001b[0;32m--> 705\u001b[0;31m                 \u001b[0;32mreturn\u001b[0m \u001b[0mself\u001b[0m\u001b[0;34m.\u001b[0m\u001b[0m_sock\u001b[0m\u001b[0;34m.\u001b[0m\u001b[0mrecv_into\u001b[0m\u001b[0;34m(\u001b[0m\u001b[0mb\u001b[0m\u001b[0;34m)\u001b[0m\u001b[0;34m\u001b[0m\u001b[0;34m\u001b[0m\u001b[0m\n\u001b[0m\u001b[1;32m    706\u001b[0m             \u001b[0;32mexcept\u001b[0m \u001b[0mtimeout\u001b[0m\u001b[0;34m:\u001b[0m\u001b[0;34m\u001b[0m\u001b[0;34m\u001b[0m\u001b[0m\n\u001b[1;32m    707\u001b[0m                 \u001b[0mself\u001b[0m\u001b[0;34m.\u001b[0m\u001b[0m_timeout_occurred\u001b[0m \u001b[0;34m=\u001b[0m \u001b[0;32mTrue\u001b[0m\u001b[0;34m\u001b[0m\u001b[0;34m\u001b[0m\u001b[0m\n",
            "\u001b[0;31mKeyboardInterrupt\u001b[0m: "
          ]
        }
      ]
    },
    {
      "cell_type": "markdown",
      "source": [
        "### **END**"
      ],
      "metadata": {
        "id": "XavVCU-LGaen"
      }
    }
  ]
}